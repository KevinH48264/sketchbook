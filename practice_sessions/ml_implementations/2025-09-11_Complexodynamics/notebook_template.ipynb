{
 "cells": [
  {
   "cell_type": "markdown",
   "id": "d769a465",
   "metadata": {},
   "source": [
    "# The First Law of Complexodynamics\n",
    "\n",
    "**Focus**: first and second pass through\n",
    "\n",
    "**References**: The First Law of Complexodynamics (https://scottaaronson.blog/?p=762)\n",
    "\n",
    "**Purpose**: \"Why does 'complexity' or 'interestingness' of physical systems seem to increase with time and then hit a maximum and decrease, in contrast to the entropy, which of course increases monotonically?\"\n",
    "\n",
    "Challenges:\n",
    "1. Come up with a plausible formal definition of \"complexity\"\n",
    "2. Prove that the \"complexity\", so defined, is large at intermediate times in natural model systems, despite being close to zero at the initial time and close to zero at late times. \n",
    "\n",
    "\n",
    "**Approach**: Sketch a possible answer drawing on concepts from Kolmogorov complexity.\n",
    "- Even though isolated physical systems get monotonically more entropic, they *don't* get monotonically more \"complicated\" or \"interesting\".\n",
    "- Conjecture that the questions can be answered using a notion called sophistication from the theory of Kolmogorov complexity.\n",
    "\n",
    "**Result**: \n",
    "\n",
    "\n",
    "**Definitions**: \n",
    "- Second Law = the entropy of any closed system tends to increase with time until it reaches a maximum value\n",
    "- Entropy = measures how \"random\" or \"generic\" or \"disordered\" a system is\n",
    "- Operative = in effect, having force, or actively influencing the situation\n",
    "- Kolmogorov complexity of a string x = length of the shortest computer program that outputs x (in some Turing-universal programming language-the exact choice can be shown not to matter much).\n",
    "    - Example: string=1010101010, shortest program = print(\"10\" * 5) (low Kolmogorov complexity). Some random set of strings have high Kolmogorov complexity where you just repeat the string. It measures compressibility\n",
    "    - Language Example: string=\"The first ten even numbers\", shortest description = \"Start from 2 and add 2 each time until you have ten numbers.\" (low Kolmogorov complexity). Some random 100 syllables from a made-up alien language -> the sequence itself (pure memorization) - high Kolmogorov complexity.\n",
    "    - Theory/Science in a nutshell - theory building is essentially trying to find low-complexity descriptions for large bodies of facts.\n",
    "- Sophistication = one can distill all the \"nonrandom\" information in x just by saying that x belongs to S.\n",
    "\n",
    "**Notes**:\n",
    "- Beautiful question: \"Why does 'complexity' or 'interestingness' of physical systems seem to increase with time and then hit a maximum and decrease, in contrast to the entropy, which of course increases monotonically?\"\n",
    "    - Hm, at first glance, this actually seems controversial. I don't seem to fully buy the assumptions yet.\n",
    "\n",
    "Illustration:\n",
    "<div>\n",
    "    <img src=\"2025-09-11_Entropy_increases_Complexity_concaves.png\" width=\"50%\">\n",
    "</div>\n",
    "\n",
    "- I think the key point is that complexity seems highest in the middle picture - when you DON'T fully understand the world just yet. (when you can't fully model and account for everything in the world yet simply because you haven't encountered all possible outcomes yet). Is this suggesting that in different fields, as you're able to better model the system, the complexity just decreases? The complexity just increases when there's tension that is being unraveled? The evolution of complexity - is *interesting*.\n",
    "- Well according to this, this could be a reason for understanding why we might actually run out of hard problems in the far future - the complexity just decreases as intelligence grows. \n",
    "\n",
    "- \"The former takes a constant number of bits to specify (independent of t), while the latter takes log(t) bits.\" - it's because you just need to encode timestep t (the number of steps it's been run for), and each one takes log(t) bits to write down. \n",
    "    - If we use Kolmogorov complexity as our stand-in for entropy (how complex it is to explain the system), then entropy increases at most logarithmically with t. \n",
    "    - It almost sounds like the more you do something, the less \"novel\" it is basically because farther numbers seem closer/easier to represent than earlier numbers. The extra cost of describing larger t only grows like log(t), so each additional step contributes less and less to the total description length.\n",
    "\n",
    "Ah good observation by Kolmogorov - \"a uniformly random string has close-to-maximal Kolmogorov complexity, but it's also one of the least \"complex\" or \"interesting\" strings imaginable.\" We can describe essentially everything you'd ever want ot knwo about the string by saying \"it's random\". Wait doesn't that mean it's low Kolmogorov complexity?\n",
    "- No it doesn't, because it's high Kolmogorov complexity to reproduce *exactly* that string, but it's simple or uninteresting because it has an easy to describe statistical property to predict distributional features and summarize at a high level. Interestingness for humans often cares about structure or meaning, so it it has very little structure or meaning, it's not as interesting.\n",
    "\n",
    "**FAQs** (will only stop to go deep if I realize it's a prerequisite. Otherwise, will jot down questions/things I didn't understand here to circle back to in an effort to first try to understand the bigger picture before honing down):\n",
    "- Q: The first is to consider probabilistic systems, rather than deterministic ones.  In the probabilistic case, the Kolmogorov complexity really does increase at a polynomial rate, as you’d expect. \n",
    "    - Why is this polynomial rate?\n",
    "\n",
    "**Action items**:\n",
    "- I stopped reading around \"But what does any of this have to do with coffee cups?\" I think I need to spend more time in the math otherwise it's hard to follow the rules being set. Worth spending more time understanding this probably."
   ]
  },
  {
   "cell_type": "markdown",
   "id": "0d1d6f6e",
   "metadata": {},
   "source": []
  }
 ],
 "metadata": {
  "language_info": {
   "name": "python"
  }
 },
 "nbformat": 4,
 "nbformat_minor": 5
}
