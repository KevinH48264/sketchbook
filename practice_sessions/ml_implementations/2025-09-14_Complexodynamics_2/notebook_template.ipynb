{
 "cells": [
  {
   "cell_type": "markdown",
   "id": "d769a465",
   "metadata": {},
   "source": [
    "# The First Law of Complexodynamics\n",
    "\n",
    "**Focus**: \n",
    "\n",
    "**References**: \n",
    "- The First Law of Complexodynamics (https://scottaaronson.blog/?p=762)\n",
    "\n",
    "**Purpose**: \"Why does 'complexity' or 'interestingness' of physical systems seem to increase with time and then hit a maximum and decrease, in contrast to the entropy, which of course increases monotonically?\"\n",
    "\n",
    "Challenges:\n",
    "1. Come up with a plausible formal definition of \"complexity\"\n",
    "2. Prove that the \"complexity\", so defined, is large at intermediate times in natural model systems, despite being close to zero at the initial time and close to zero at late times. \n",
    "\n",
    "- To spend more time in the math otherwise it's hard to follow the rules being set.\n",
    "\n",
    "**Approach**: Sketch a possible answer drawing on concepts from Kolmogorov complexity.\n",
    "- Even though isolated physical systems get monotonically more entropic, they *don't* get monotonically more \"complicated\" or \"interesting\".\n",
    "- Conjecture that the questions can be answered using a notion called sophistication from the theory of Kolmogorov complexity.\n",
    "\n",
    "**Result**: \n",
    "\n",
    "\n",
    "**Definitions**: \n",
    "- Second Law = the entropy of any closed system tends to increase with time until it reaches a maximum value\n",
    "- Entropy = measures how \"random\" or \"generic\" or \"disordered\" a system is\n",
    "- Operative = in effect, having force, or actively influencing the situation\n",
    "- Kolmogorov complexity of a string x = length of the shortest computer program that outputs x (in some Turing-universal programming language-the exact choice can be shown not to matter much).\n",
    "    - Example: string=1010101010, shortest program = print(\"10\" * 5) (low Kolmogorov complexity). Some random set of strings have high Kolmogorov complexity where you just repeat the string. It measures compressibility\n",
    "    - Language Example: string=\"The first ten even numbers\", shortest description = \"Start from 2 and add 2 each time until you have ten numbers.\" (low Kolmogorov complexity). Some random 100 syllables from a made-up alien language -> the sequence itself (pure memorization) - high Kolmogorov complexity.\n",
    "    - Theory/Science in a nutshell - theory building is essentially trying to find low-complexity descriptions for large bodies of facts.\n",
    "- Sophistication = one can distill all the \"nonrandom\" information in x just by saying that x belongs to S.\n",
    "\n",
    "**Notes**:\n",
    "\n",
    "\n",
    "**FAQs**:\n",
    "\n",
    "**Action items**:"
   ]
  },
  {
   "cell_type": "markdown",
   "id": "0d1d6f6e",
   "metadata": {},
   "source": []
  }
 ],
 "metadata": {
  "language_info": {
   "name": "python"
  }
 },
 "nbformat": 4,
 "nbformat_minor": 5
}
