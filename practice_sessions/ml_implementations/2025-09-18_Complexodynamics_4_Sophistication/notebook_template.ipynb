{
 "cells": [
  {
   "cell_type": "markdown",
   "id": "d769a465",
   "metadata": {},
   "source": [
    "# The First Law of Complexodynamics\n",
    "\n",
    "**Focus**: \n",
    "\n",
    "**References**: \n",
    "- The First Law of Complexodynamics (https://scottaaronson.blog/?p=762)\n",
    "\n",
    "**Purpose**: \n",
    "\n",
    "**Approach**: \n",
    "\n",
    "**Result**: \n",
    "\n",
    "\n",
    "**Definitions**: \n",
    "\n",
    "**Notes**:\n",
    "- Complexity = \"complextropy\" to avoid confusion with other kinds of complexity\n",
    "- Sophistication = ?\n",
    "- Kolmogorov structure functions = ?\n",
    "- algorithmic statistics = ?\n",
    "- Kolmogorov complexity of string x = length of the shortest computer program that outputs x = compressibility of string (x)\n",
    "\n",
    "\"A uniformly random string has close-to-maximal Kolmogorov complexity, but it's also one of the *least* \"complex\" or \"interesting\" strings imaginable. After all, we can describe essentially everything you'd ever want to know about the string by saying \"it's random\"!\"\n",
    "- In one sense, it's like high entropy means the length of the shortest computer program that outputs exactly x is long, but to capture the properties of x is short?\n",
    "- Goal: formalize this intuition\n",
    "\n",
    "\n",
    "- Given a set $S$ of n-bit strings\n",
    "- let K(S) = number of bits in the shortest computer program that outputs the elements of S and then halts (importantly, not just one element) (Kolmogorov complexity for all strings $x \\in S$ I think) \"how hard is it to describe this whole set\"\n",
    "- given such a set $S$ and an element $x$ of $S$, let K(x|S) = length of the shortest program that outputs x, given an oracle for testing membership in S. (normal Kolmogorov complexity for string $x$)\n",
    "- *sophistication* of x (Soph(x)) = smallest possible value of K(S), over all sets *S* s.t. \n",
    "    1. $x \\in S$ and \n",
    "    2. $K(x|S) \\geq log_2(|S|) - c$, for some constant *c*. (One can distill all the \"nonrandom\" information in x just by saying x belongs in S.)\n",
    "aka \"sophistication\" of a string $x$ = Soph(x) = *minimum description length* of some set $S$ that \n",
    "1. contains $x$\n",
    "2. doesn't make it too easy to specify $x$. Requires conditional Kolmogorov complexity to be at least as long as it takes to pick an element uniformly at random from $S$. So $log_2(|S|) - c$ should capture all \"nonrandom\" information / patterns, and then K(x|S) should just be \"randomness\" + \"non-random\" information.\n",
    "    - K(x|S) = \"random\" + \"non-random\" information\n",
    "        - \"non-random\" information = $log_2(|S|) - c$ = Soph(x)\n",
    "        - \"random\" information = $K(x|S) - $log_2(|S|) + c$\n",
    "    - If $K(x|S) \\leq log_2(|S|) - c$, then $x$ is somehow compressible inside $S$ and $S$ contains extra structure that isn't needed. Shortest program = compressibility.\n",
    "    - If $K(x|S) = log_2(|S|) - c$, then specifying $x$ given $S$ is as hard as describing anything else in the set.\n",
    "\n",
    "- So a high Sophistication means that there's a lot of patterns and non-random information. And I think this is moving towards where complexotropy = sophistication\n",
    "\n",
    "Examples:\n",
    "1. High entropy/randomness, low sophistication/non-randomness example = Assume $x$ is a perfectly random $n$-bit string. The only set $S$ that works is $S = \\{x\\}$, ie |S| = 1 and the set is x itself because anything larger (with more strings) would be a larger program. \n",
    "    - Soph(x) = $K(S) \\approx n$ which is just as long as describing x itself. So random strings have high Kolmogorov complexity because $K(x) = n$ but low sophistication because $K(S) = n$ (high Soph(x) = low sophistication surprisingly?).\n",
    "\n",
    "**IMPORTANT**: low Soph(x) = $K(S)$ means high sophistication / complextropy. This is because if Soph(x) is small, x can be explained by a simple structured set = high sophistication (lots of structure).\n",
    "\n",
    "**FAQs**:\n",
    "\n",
    "**Action items**:\n",
    "- I did not understand what a high sophistication example is. Need to revisit this. Continue from \"Intuitively, Soph(x) is the length of the shotest computer program...\""
   ]
  },
  {
   "cell_type": "markdown",
   "id": "c1eb834e",
   "metadata": {},
   "source": []
  }
 ],
 "metadata": {
  "language_info": {
   "name": "python"
  }
 },
 "nbformat": 4,
 "nbformat_minor": 5
}
