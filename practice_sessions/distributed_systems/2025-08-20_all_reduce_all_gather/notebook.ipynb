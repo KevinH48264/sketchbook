{
 "cells": [
  {
   "cell_type": "markdown",
   "id": "b49fd574",
   "metadata": {},
   "source": [
    "# Tensor Parallelism\n",
    "References:\n",
    "- Demystifying Tensor Parallelism (https://robotchinwag.com/posts/demystifying-tensor-parallelism/#pairwise-sharding)\n",
    "\n",
    "Purpose: expand beyond 1 GPU model training and support training larger models\n",
    "\n",
    "Approach: leverage 3D parallelism, specifically tensor parallelism here, to split layer weights across devices\n",
    "\n",
    "Result: enables increased memory capacity and higher throughput, but there's a large communication cost for all-gather and all-reduce operations\n",
    "\n",
    "Notes:\n",
    "- Stopped here: https://robotchinwag.com/posts/demystifying-tensor-parallelism/#example-feed-forward-transformer-layer"
   ]
  },
  {
   "cell_type": "code",
   "execution_count": null,
   "id": "6cec0e74",
   "metadata": {},
   "outputs": [],
   "source": [
    "# Attempt to implement column-wise sharding on this forward pass\n",
    "\n",
    "import torch\n",
    "import torch.nn as nn\n",
    "from typing import List\n",
    "\n",
    "class FeedForward(nn.Module):\n",
    "\n",
    "    def __init__(self, D, expansion=4):\n",
    "        super().__init__()\n",
    "        hidden = expansion * D\n",
    "        self.fc1_W_DH = torch.randn(D, hidden) \n",
    "        self.act = nn.GELU()\n",
    "        self.fc2_W_HD = torch.randn(hidden, D)\n",
    "\n",
    "    def all_reduce(self, X: List[torch.Tensor]):\n",
    "        pass # assume we have some all reduce collective operation\n",
    "\n",
    "    def all_gather(self, X: List[torch.Tensor]):\n",
    "        pass # assume we have some all gather collective operation\n",
    "\n",
    "    def forward(self, X_BND):\n",
    "        Z1_BNH = X_BND @ self.fc1_W_DH\n",
    "        H_BNH = self.act(Z1_BNH)\n",
    "        Z2_BND = H_BNH @ self.fc2_W_HD\n",
    "        return Z2_BND\n",
    "\n",
    "    def forward_sharded(self, X_BND):\n",
    "        # first operation we shard the first matmul row-wise, requiring a all_reduce after\n",
    "        K = D // 2 # just to track shapes\n",
    "        X_BNK_0, X_BNK_1 = X_BND[:, :, X_BND.shape[2] // 2:], X_BND[:, :, :X_BND.shape[2] // 2]\n",
    "        fc1_W_KH_0, fc1_W_KH_1 = self.fc1_W_DH[:, :self.fc1_W_DH.shape[1] // 2], self.fc1_W_DH[:, self.fc1_W_DH.shape[1] // 2:]\n",
    "\n",
    "        Z1_BNH_0 = X_BNK_0 @ fc1_W_KH_0\n",
    "        Z1_BNH_1 = X_BNK_1 @ fc1_W_KH_1\n",
    "\n",
    "        Z1_BNH = self.all_reduce([Z1_BNH_0, Z1_BNH_1])\n",
    "        H_BNH = self.act(Z1_BNH) # requires the all reduce / element-wise operation requires full values\n",
    "\n",
    "        # TODO: practice sharding column-wise\n",
    "        Z2_BND = H_BNH @ self.fc2_W_HD\n",
    "        return Z2_BND\n",
    "\n",
    "B, N, D = 32, 128, 768\n",
    "ff = FeedForward(D=D)\n",
    "X_BND = torch.randn(B, N, D) # (B,N,D)\n",
    "Y_BND = ff(X_BND)\n",
    "assert Y_BND.shape == (B, N, D)"
   ]
  },
  {
   "cell_type": "code",
   "execution_count": null,
   "id": "ddbb5e35",
   "metadata": {},
   "outputs": [],
   "source": []
  }
 ],
 "metadata": {
  "kernelspec": {
   "display_name": "venv",
   "language": "python",
   "name": "python3"
  },
  "language_info": {
   "codemirror_mode": {
    "name": "ipython",
    "version": 3
   },
   "file_extension": ".py",
   "mimetype": "text/x-python",
   "name": "python",
   "nbconvert_exporter": "python",
   "pygments_lexer": "ipython3",
   "version": "3.11.8"
  }
 },
 "nbformat": 4,
 "nbformat_minor": 5
}
